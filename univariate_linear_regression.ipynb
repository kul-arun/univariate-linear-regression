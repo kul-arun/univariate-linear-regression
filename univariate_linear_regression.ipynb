{
 "cells": [
  {
   "cell_type": "markdown",
   "id": "358bb147",
   "metadata": {},
   "source": [
    "# Univariate Linear Regression\n",
    "\n",
    "We shall work with a dataset taken from Kaggle (https://www.kaggle.com/datasets/krishnaraj30/salary-prediction-data-simple-linear-regression)."
   ]
  },
  {
   "cell_type": "code",
   "execution_count": 1,
   "id": "65d88291",
   "metadata": {},
   "outputs": [],
   "source": [
    "import matplotlib.pyplot as plt\n",
    "import numpy as np\n",
    "import pandas as pd\n",
    "\n",
    "# render plots in the notebook.\n",
    "%matplotlib inline"
   ]
  },
  {
   "cell_type": "markdown",
   "id": "7ef84b45",
   "metadata": {},
   "source": [
    "Let us explore the dataset by creating a Pandas DataFrame from the CSV data file."
   ]
  },
  {
   "cell_type": "code",
   "execution_count": 2,
   "id": "ee876be5",
   "metadata": {},
   "outputs": [
    {
     "data": {
      "text/html": [
       "<div>\n",
       "<style scoped>\n",
       "    .dataframe tbody tr th:only-of-type {\n",
       "        vertical-align: middle;\n",
       "    }\n",
       "\n",
       "    .dataframe tbody tr th {\n",
       "        vertical-align: top;\n",
       "    }\n",
       "\n",
       "    .dataframe thead th {\n",
       "        text-align: right;\n",
       "    }\n",
       "</style>\n",
       "<table border=\"1\" class=\"dataframe\">\n",
       "  <thead>\n",
       "    <tr style=\"text-align: right;\">\n",
       "      <th></th>\n",
       "      <th>YearsExperience</th>\n",
       "      <th>Salary</th>\n",
       "    </tr>\n",
       "  </thead>\n",
       "  <tbody>\n",
       "    <tr>\n",
       "      <th>0</th>\n",
       "      <td>1.1</td>\n",
       "      <td>39343.0</td>\n",
       "    </tr>\n",
       "    <tr>\n",
       "      <th>1</th>\n",
       "      <td>1.3</td>\n",
       "      <td>46205.0</td>\n",
       "    </tr>\n",
       "    <tr>\n",
       "      <th>2</th>\n",
       "      <td>1.5</td>\n",
       "      <td>37731.0</td>\n",
       "    </tr>\n",
       "    <tr>\n",
       "      <th>3</th>\n",
       "      <td>2.0</td>\n",
       "      <td>43525.0</td>\n",
       "    </tr>\n",
       "    <tr>\n",
       "      <th>4</th>\n",
       "      <td>2.2</td>\n",
       "      <td>39891.0</td>\n",
       "    </tr>\n",
       "  </tbody>\n",
       "</table>\n",
       "</div>"
      ],
      "text/plain": [
       "   YearsExperience   Salary\n",
       "0              1.1  39343.0\n",
       "1              1.3  46205.0\n",
       "2              1.5  37731.0\n",
       "3              2.0  43525.0\n",
       "4              2.2  39891.0"
      ]
     },
     "execution_count": 2,
     "metadata": {},
     "output_type": "execute_result"
    }
   ],
   "source": [
    "data = pd.read_csv(\"data/Salary_Data.csv\")\n",
    "\n",
    "data.head()"
   ]
  },
  {
   "cell_type": "code",
   "execution_count": 3,
   "id": "f0036333",
   "metadata": {},
   "outputs": [
    {
     "name": "stdout",
     "output_type": "stream",
     "text": [
      "<class 'pandas.core.frame.DataFrame'>\n",
      "RangeIndex: 30 entries, 0 to 29\n",
      "Data columns (total 2 columns):\n",
      " #   Column           Non-Null Count  Dtype  \n",
      "---  ------           --------------  -----  \n",
      " 0   YearsExperience  30 non-null     float64\n",
      " 1   Salary           30 non-null     float64\n",
      "dtypes: float64(2)\n",
      "memory usage: 608.0 bytes\n"
     ]
    }
   ],
   "source": [
    "data.info()"
   ]
  },
  {
   "cell_type": "markdown",
   "id": "3c3727de",
   "metadata": {},
   "source": [
    "There are 30 rows and 2 columns in the dataset, with no missing values. The values in the dataset are of numeric type (`float64`). We shall visualise the relationship between the 2 columns using a scatter plot:"
   ]
  },
  {
   "cell_type": "code",
   "execution_count": 4,
   "id": "2a9c5402",
   "metadata": {},
   "outputs": [
    {
     "data": {
      "image/png": "[encoded data removed]",
      "text/plain": [
       "<Figure size 800x600 with 1 Axes>"
      ]
     },
     "metadata": {},
     "output_type": "display_data"
    }
   ],
   "source": [
    "fig, ax = plt.subplots(figsize=(8, 6))\n",
    "\n",
    "ax.scatter(data[\"YearsExperience\"], data[\"Salary\"]/1000, c=\"#636EFA\")\n",
    "\n",
    "ax.set(title=\"Salary vs Experience\",\n",
    "       xlabel=\"Experience (Years)\", xticks=np.arange(1, 12), xlim=(0.5, 11.5),\n",
    "       ylabel=\"Salary (in thousands of dollars)\", yticks=np.arange(30, 131, 10), ylim=(25, 135));"
   ]
  },
  {
   "cell_type": "markdown",
   "id": "24612b9a",
   "metadata": {},
   "source": [
    "From the plot above, we can conclude that a linear relationship exists between the `YearsExperience` and `Salary` columns. Thus, we can construct a simple linear regression model that fits the data. The feature variable is the experience in years and the target variable is salary. Thus, we have a univariate linear regression problem at hand."
   ]
  },
  {
   "cell_type": "markdown",
   "id": "45a08696",
   "metadata": {},
   "source": [
    "## Modelling\n",
    "\n",
    "Let $x_i$ be the value of the feature variable corresponding to the $i^{\\mathrm{th}}$ row. The true value of the target variable is denoted by $y_i$. Since we are constructing a univariate linear regression model $f$, the predicted value for the target variable is given by:\n",
    "\n",
    "$$\n",
    "\\hat{y}_i=f(x_i)=mx_i+c\n",
    "$$\n",
    "\n",
    "where $m$ and $c$ are parameters of the model. They represent the slope and $y$-intercept of the regression line. Optimal values of the parameters should minimise the error between the true and the predicted values of the target variable. Let us try to minimise the Mean Squared Error (MSE) by using the following cost function $J(m,c)$:\n",
    "\n",
    "$$\n",
    "J(m,c)=\\frac{1}{2n}\\sum_{i=1}^n (\\hat{y}_i-y_i)^2=\\frac{1}{2n}\\sum_{i=1}^n (mx_i+c-y_i)^2\n",
    "$$\n",
    "\n",
    "where $n$ is the total number of rows."
   ]
  },
  {
   "cell_type": "code",
   "execution_count": 5,
   "id": "6119f78b",
   "metadata": {},
   "outputs": [],
   "source": [
    "# Define the model f.\n",
    "def f(m, c, x):\n",
    "    return m*x + c\n",
    "\n",
    "# Define the cost function J.\n",
    "def J(m, c, x, y, n):\n",
    "    return np.sum(np.square(f(m, c, x) - y)) / (2*n)"
   ]
  },
  {
   "cell_type": "markdown",
   "id": "c9ecbb1f",
   "metadata": {},
   "source": [
    "We shall find the best values for the parameters by using the `gradient descent` algorithm. After providing initial values for $m$ and $c$, we keep updating their values till the corresponding cost function reaches a local minimum. This is done through the following transformation:\n",
    "\n",
    "$$\n",
    "m = m - \\alpha \\cdot \\partial_m J\n",
    "$$\n",
    "\n",
    "$$\n",
    "c = c - \\alpha \\cdot \\partial_c J\n",
    "$$\n",
    "\n",
    "where $\\partial_m J$ and $\\partial_c J$ are the partial derivatives of $J$. The `learning rate` $\\alpha$ controls the step size of the update in the values of the parameters."
   ]
  },
  {
   "cell_type": "code",
   "execution_count": 6,
   "id": "f3cc5b3a",
   "metadata": {},
   "outputs": [],
   "source": [
    "# Partial derivative of J with respect to m.\n",
    "def dJ_dm(m, c, x, y, n):\n",
    "    return np.sum((f(m, c, x) - y) * x) / n\n",
    "\n",
    "# Partial derivative of J with respect to c.\n",
    "def dJ_dc(m, c, x, y, n):\n",
    "    return np.sum(f(m, c, x) - y) / n\n",
    "\n",
    "def gradiant_descent(m, c, x, y, alpha, iter_num):\n",
    "    \"\"\"\n",
    "    Employ gradiant descent to find the optimal values for m and c.\n",
    "    \n",
    "    Parameters\n",
    "    ----------\n",
    "    m : scalar\n",
    "        initial value for slope of the regression line\n",
    "    \n",
    "    c : scalar\n",
    "        initial value for y-intercept of the regression line\n",
    "    \n",
    "    x : array_like\n",
    "        values of the feature variable\n",
    "      \n",
    "    y : array_like\n",
    "        values of the target variable\n",
    "      \n",
    "    alpha : scalar\n",
    "        value for the learning rate\n",
    "      \n",
    "    iter_num : scalar\n",
    "        number of updates to be performed\n",
    "      \n",
    "     Returns\n",
    "     -------\n",
    "     tuple\n",
    "        the pair of optimal values (m,c)\n",
    "    \"\"\"\n",
    "    \n",
    "    print(\"Gradiant Descent\", 16 * \"*\", sep=\"\\n\")\n",
    "    \n",
    "    # number of rows in the dataset.\n",
    "    n = x.shape[0]\n",
    "    \n",
    "    for i in range(1, iter_num+1):\n",
    "        m -= alpha * dJ_dm(m, c, x, y, n)\n",
    "        c -= alpha * dJ_dc(m, c, x, y, n)\n",
    "        if i % 1000 == 0:\n",
    "            print(f\"i: {i:5}\\tJ(m,c): {J(m, c, x, y, n)}\")\n",
    "    return m, c"
   ]
  },
  {
   "cell_type": "markdown",
   "id": "5fb2254d",
   "metadata": {},
   "source": [
    "To execute gradiant descent, let us specify the values for the learning rate and the number of times to perform the update (`iter_num`), along with initial values for $m$ and $c$."
   ]
  },
  {
   "cell_type": "code",
   "execution_count": 7,
   "id": "78dad101",
   "metadata": {},
   "outputs": [],
   "source": [
    "# initial values for m and c.\n",
    "m_init = 0\n",
    "c_init = 0\n",
    "\n",
    "# feature values. \n",
    "x = data[\"YearsExperience\"]\n",
    "\n",
    "# target values.\n",
    "y = data[\"Salary\"]\n",
    "\n",
    "# value for learning rate.\n",
    "alpha = 2e-2\n",
    "\n",
    "# number of times to perform the update.\n",
    "iter_num = 15000"
   ]
  },
  {
   "cell_type": "code",
   "execution_count": 8,
   "id": "55d46ca1",
   "metadata": {},
   "outputs": [
    {
     "name": "stdout",
     "output_type": "stream",
     "text": [
      "Gradiant Descent\n",
      "****************\n",
      "i:  1000\tJ(m,c): 15648005.835395116\n",
      "i:  2000\tJ(m,c): 15635478.140312457\n",
      "i:  3000\tJ(m,c): 15635475.861555051\n",
      "i:  4000\tJ(m,c): 15635475.861140553\n",
      "i:  5000\tJ(m,c): 15635475.861140486\n",
      "i:  6000\tJ(m,c): 15635475.861140493\n",
      "i:  7000\tJ(m,c): 15635475.861140484\n",
      "i:  8000\tJ(m,c): 15635475.86114047\n",
      "i:  9000\tJ(m,c): 15635475.86114047\n",
      "i: 10000\tJ(m,c): 15635475.86114047\n",
      "i: 11000\tJ(m,c): 15635475.86114047\n",
      "i: 12000\tJ(m,c): 15635475.86114047\n",
      "i: 13000\tJ(m,c): 15635475.86114047\n",
      "i: 14000\tJ(m,c): 15635475.86114047\n",
      "i: 15000\tJ(m,c): 15635475.86114047\n"
     ]
    }
   ],
   "source": [
    "m, c = gradiant_descent(m_init, c_init, x, y, alpha, iter_num)"
   ]
  },
  {
   "cell_type": "code",
   "execution_count": 9,
   "id": "8adb8a19",
   "metadata": {},
   "outputs": [
    {
     "name": "stdout",
     "output_type": "stream",
     "text": [
      "The optimal values of m and c are 9449.9623 and 25792.2002 respectively.\n"
     ]
    }
   ],
   "source": [
    "print(f\"The optimal values of m and c are {m:.4f} and {c:.4f} respectively.\")"
   ]
  },
  {
   "cell_type": "markdown",
   "id": "9080dbaa",
   "metadata": {},
   "source": [
    "## Result\n",
    "\n",
    "The predicted values for the target variable can be obtained from the model $f$."
   ]
  },
  {
   "cell_type": "code",
   "execution_count": 10,
   "id": "f90c558f",
   "metadata": {},
   "outputs": [],
   "source": [
    "y_pred = f(m, c, x)"
   ]
  },
  {
   "cell_type": "markdown",
   "id": "44bedb6e",
   "metadata": {},
   "source": [
    "Let us plot the regression line associated with the optimal values of $m$ and $c$. The true values of the target variable are also shown in the plot."
   ]
  },
  {
   "cell_type": "code",
   "execution_count": 11,
   "id": "8ffcf546",
   "metadata": {},
   "outputs": [
    {
     "data": {
      "image/png": "[encoded data removed]",
      "text/plain": [
       "<Figure size 800x600 with 1 Axes>"
      ]
     },
     "metadata": {},
     "output_type": "display_data"
    }
   ],
   "source": [
    "fig, ax = plt.subplots(figsize=(8, 6))\n",
    "\n",
    "ax.scatter(data[\"YearsExperience\"], data[\"Salary\"]/1000, c=\"#636EFA\")\n",
    "\n",
    "ax.plot(x, y_pred/1000, color=\"crimson\", linestyle=\"--\")\n",
    "\n",
    "ax.set(title=\"Salary vs Experience\",\n",
    "       xlabel=\"Experience (Years)\", xticks=np.arange(1, 12), xlim=(0.5, 11.5),\n",
    "       ylabel=\"Salary (in thousands of dollars)\", yticks=np.arange(30, 131, 10), ylim=(25, 135));"
   ]
  },
  {
   "cell_type": "markdown",
   "id": "c0321408",
   "metadata": {},
   "source": [
    "Using the simple linear regression model, the salary corresponding to a certain level of experience (measured in years) can be predicted in the following way:"
   ]
  },
  {
   "cell_type": "code",
   "execution_count": 12,
   "id": "f085326f",
   "metadata": {},
   "outputs": [
    {
     "name": "stdout",
     "output_type": "stream",
     "text": [
      "Salary corresponding to 3.5 years of experience is 58,867.07 dollars.\n"
     ]
    }
   ],
   "source": [
    "# experience in years.\n",
    "experience = 3.5\n",
    "\n",
    "print(f\"Salary corresponding to {experience} years of experience is {f(m, c, experience):,.2f} dollars.\")"
   ]
  }
 ],
 "metadata": {
  "kernelspec": {
   "display_name": "Python 3 (ipykernel)",
   "language": "python",
   "name": "python3"
  },
  "language_info": {
   "codemirror_mode": {
    "name": "ipython",
    "version": 3
   },
   "file_extension": ".py",
   "mimetype": "text/x-python",
   "name": "python",
   "nbconvert_exporter": "python",
   "pygments_lexer": "ipython3",
   "version": "3.10.10"
  }
 },
 "nbformat": 4,
 "nbformat_minor": 5
}
